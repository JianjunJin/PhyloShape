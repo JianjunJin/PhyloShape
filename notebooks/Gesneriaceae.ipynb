{
 "cells": [
  {
   "cell_type": "markdown",
   "id": "9ad34204-d5df-4da8-a078-3d6201c0aabb",
   "metadata": {},
   "source": [
    "# Phyloshape test w/ Gesneriaceae data"
   ]
  },
  {
   "cell_type": "code",
   "execution_count": 1,
   "id": "c48be741-c40f-493f-9bf7-89ec0be82636",
   "metadata": {
    "tags": []
   },
   "outputs": [
    {
     "name": "stderr",
     "output_type": "stream",
     "text": [
      "🐞 logger_setup:set_log_level | \u001b[34m\u001b[1mphyloshape v.0.0.1 logging enabled\u001b[0m\n"
     ]
    }
   ],
   "source": [
    "from pathlib import Path\n",
    "import numpy as np\n",
    "import k3d\n",
    "from sklearn.decomposition import PCA\n",
    "import phyloshape\n",
    "from phyloshape.shape.src.mapper import VectorMapper\n",
    "# from phyloshape.shape.src.vectors import VertexVectorMapper\n",
    "# from phyloshape.vectors.transform import transform_vector_to_absolute\n",
    "\n",
    "phyloshape.set_log_level(\"DEBUG\")"
   ]
  },
  {
   "cell_type": "markdown",
   "id": "456cba3c-b4ae-4b64-8345-506969bf345c",
   "metadata": {},
   "source": [
    "## Load data"
   ]
  },
  {
   "cell_type": "code",
   "execution_count": 2,
   "id": "d1ab9836-4b2a-4890-8568-9c6d03a36932",
   "metadata": {
    "tags": []
   },
   "outputs": [
    {
     "data": {
      "text/plain": [
       "{'34_HC3403-3_17': Model(nverts=420, nfaces=0),\n",
       " '58_K039170_01': Model(nverts=420, nfaces=0),\n",
       " '70_K039203_04': Model(nverts=420, nfaces=0),\n",
       " '69_K039200_02': Model(nverts=420, nfaces=0),\n",
       " '70_K039203_05': Model(nverts=420, nfaces=0)}"
      ]
     },
     "execution_count": 2,
     "metadata": {},
     "output_type": "execute_result"
    }
   ],
   "source": [
    "# load some test data\n",
    "models = phyloshape.data.get_gesneriaceae_models()\n",
    "models"
   ]
  },
  {
   "cell_type": "code",
   "execution_count": 3,
   "id": "4708f811-dd1e-4f57-b1bd-5fb4a2c93965",
   "metadata": {
    "tags": []
   },
   "outputs": [
    {
     "data": {
      "application/vnd.jupyter.widget-view+json": {
       "model_id": "019bbbe48cd447f6b2ac24ab6f9c9392",
       "version_major": 2,
       "version_minor": 0
      },
      "text/plain": [
       "Plot(antialias=5, axes=['x', 'y', 'z'], axes_helper=1.0, axes_helper_colors=[16711680, 65280, 255], background…"
      ]
     },
     "execution_count": 3,
     "metadata": {},
     "output_type": "execute_result"
    }
   ],
   "source": [
    "models[\"34_HC3403-3_17\"].draw()"
   ]
  },
  {
   "cell_type": "markdown",
   "id": "c9f607ed-1ae1-48cf-8adb-168d0c60c61a",
   "metadata": {},
   "source": [
    "## Create comparative Mapper"
   ]
  },
  {
   "cell_type": "code",
   "execution_count": 4,
   "id": "9681e538-b496-48ba-bbba-6c775bc86b94",
   "metadata": {},
   "outputs": [
    {
     "name": "stderr",
     "output_type": "stream",
     "text": [
      "ℹ️ mapper:__init__            | \u001b[1mVectorMapper num_models=5 num_vertices=420\u001b[0m\n",
      "⚠️ mapper:_remove_duplicates  | \u001b[33m\u001b[1m9 identical vertices will be excluded: [15, 31, 47, 63, 87, 95, 103, 111, 119]\u001b[0m\n",
      "🐞 mapper:_set_vertex_path    | \u001b[34m\u001b[1mfinding optimal stable path visiting all Vertices\u001b[0m\n",
      "ℹ️ mapper:_set_vertex_path    | \u001b[1mvertex path: [166, 270, 165, 167, 269], ... [185, 315, 288, 184, 314]\u001b[0m\n",
      "🐞 mapper:_set_vector_faces   | \u001b[34m\u001b[1msetting reference faces to all Vectors along path\u001b[0m\n"
     ]
    }
   ],
   "source": [
    "mapper = VectorMapper(models, num_neighbors=420, num_iterations=5)"
   ]
  },
  {
   "cell_type": "code",
   "execution_count": 5,
   "id": "ba0bd67f",
   "metadata": {},
   "outputs": [
    {
     "name": "stderr",
     "output_type": "stream",
     "text": [
      "🐞 mapper:get_model_from_vectors | \u001b[34m\u001b[1minferring Vertex coords from mean path accumulated relative Vectors\u001b[0m\n",
      "ℹ️ mapper:get_model_from_vectors | \u001b[1mrefining iteration 0; sum diff = 1.476e+05\u001b[0m\n",
      "🐞 mapper:_set_vector_faces      | \u001b[34m\u001b[1msetting reference faces to all Vectors along path\u001b[0m\n",
      "ℹ️ mapper:get_model_from_vectors | \u001b[1mrefining iteration 1; sum diff = 4.6093e-11\u001b[0m\n",
      "🐞 mapper:_set_vector_faces      | \u001b[34m\u001b[1msetting reference faces to all Vectors along path\u001b[0m\n",
      "ℹ️ mapper:get_model_from_vectors | \u001b[1mrefining iteration 2; sum diff = 4.1738e-11\u001b[0m\n",
      "🐞 mapper:_set_vector_faces      | \u001b[34m\u001b[1msetting reference faces to all Vectors along path\u001b[0m\n",
      "ℹ️ mapper:get_model_from_vectors | \u001b[1mrefining iteration 3; sum diff = 3.6121e-11\u001b[0m\n",
      "🐞 mapper:_set_vector_faces      | \u001b[34m\u001b[1msetting reference faces to all Vectors along path\u001b[0m\n",
      "ℹ️ mapper:get_model_from_vectors | \u001b[1mrefining iteration 4; sum diff = 3.2092e-11\u001b[0m\n",
      "🐞 mapper:_set_vector_faces      | \u001b[34m\u001b[1msetting reference faces to all Vectors along path\u001b[0m\n"
     ]
    }
   ],
   "source": [
    "test = mapper.get_model_from_vectors(\"test\", vectors=mapper.vectors[\"34_HC3403-3_17\"], weighted=True)"
   ]
  },
  {
   "cell_type": "code",
   "execution_count": 9,
   "id": "400e1d49",
   "metadata": {},
   "outputs": [],
   "source": [
    "#mapper.vector_weights[0]"
   ]
  },
  {
   "cell_type": "code",
   "execution_count": 6,
   "id": "5636d7bc",
   "metadata": {},
   "outputs": [
    {
     "data": {
      "application/vnd.jupyter.widget-view+json": {
       "model_id": "300309e14b8544bba0df3220b7bfb2c5",
       "version_major": 2,
       "version_minor": 0
      },
      "text/plain": [
       "Plot(antialias=5, axes=['x', 'y', 'z'], axes_helper=1.0, axes_helper_colors=[16711680, 65280, 255], background…"
      ]
     },
     "execution_count": 6,
     "metadata": {},
     "output_type": "execute_result"
    }
   ],
   "source": [
    "test.draw()"
   ]
  },
  {
   "cell_type": "markdown",
   "id": "92c6ab7b",
   "metadata": {},
   "source": [
    "### Transform relative vectors to PCs"
   ]
  },
  {
   "cell_type": "code",
   "execution_count": 25,
   "id": "547cd5a3",
   "metadata": {},
   "outputs": [],
   "source": [
    "# mapper.vectors[\"34_HC3403-3_17\"]"
   ]
  },
  {
   "cell_type": "code",
   "execution_count": 26,
   "id": "8aa7eaf4",
   "metadata": {},
   "outputs": [],
   "source": [
    "# rvecs = [(i, j.relative) for i,j in mapper.vectors[\"34_HC3403-3_17\"].items()]"
   ]
  },
  {
   "cell_type": "code",
   "execution_count": 7,
   "id": "15ae0157-262e-4f58-b257-0aa2e0c92086",
   "metadata": {
    "tags": []
   },
   "outputs": [],
   "source": [
    "from sklearn.decomposition import PCA"
   ]
  },
  {
   "cell_type": "code",
   "execution_count": 8,
   "id": "f9db6bea-057a-4d67-9030-239cb05a7b23",
   "metadata": {
    "tags": []
   },
   "outputs": [],
   "source": [
    "# fdat = mapper.get_PCs()"
   ]
  },
  {
   "cell_type": "code",
   "execution_count": 9,
   "id": "0a55eeb5-9ed3-4abe-ace5-f8aebdc3af23",
   "metadata": {
    "tags": []
   },
   "outputs": [],
   "source": [
    "# fdat.shape"
   ]
  },
  {
   "cell_type": "code",
   "execution_count": null,
   "id": "98d9da7e",
   "metadata": {},
   "outputs": [],
   "source": []
  },
  {
   "cell_type": "code",
   "execution_count": null,
   "id": "87f93ee8",
   "metadata": {},
   "outputs": [],
   "source": []
  },
  {
   "cell_type": "code",
   "execution_count": null,
   "id": "3ba39744",
   "metadata": {},
   "outputs": [],
   "source": []
  },
  {
   "cell_type": "code",
   "execution_count": 53,
   "id": "945f2462-e706-4f6b-bd96-055ad4b4a9ee",
   "metadata": {
    "tags": []
   },
   "outputs": [
    {
     "data": {
      "text/plain": [
       "array([[ 0.45896443,  0.13516665,  0.66764531,  0.40500114,  0.40162848],\n",
       "       [-0.35176035,  0.01182079,  0.73477987, -0.41454717, -0.40543077],\n",
       "       [-0.81552484,  0.07841716,  0.05789033,  0.38662376,  0.41945292],\n",
       "       [-0.02269458, -0.44357794,  0.05121245,  0.67330106, -0.58886886],\n",
       "       [-0.00452645,  0.88242825, -0.09151106,  0.24761355, -0.38937535]])"
      ]
     },
     "execution_count": 53,
     "metadata": {},
     "output_type": "execute_result"
    }
   ],
   "source": [
    "p.components_"
   ]
  },
  {
   "cell_type": "code",
   "execution_count": 52,
   "id": "fcbc5d2b-6217-44e1-bf48-0f28e24290bd",
   "metadata": {
    "tags": []
   },
   "outputs": [
    {
     "name": "stdout",
     "output_type": "stream",
     "text": [
      "[0.64 0.2  0.1  0.03 0.02]\n",
      "(24660, 5)\n",
      "[[ 58.3562179  -10.39338414   1.75284206   1.31774007   6.36264541]\n",
      " [ 19.96182584 -25.76720589 -25.56874477  -7.07121398   9.35777205]\n",
      " [ 73.07398025  21.96754715  -4.49684279  -1.39266911  -1.57769184]\n",
      " ...\n",
      " [-25.00135796  40.20857118  -6.16075532 -29.42621443  -2.03883992]\n",
      " [121.91585525 -15.68389401   8.84796155   3.99386281 -60.53879535]\n",
      " [279.15450781  71.36777053   3.6877666   23.64482796  10.11932403]]\n"
     ]
    }
   ],
   "source": [
    "p = PCA(svd_solver=\"full\")\n",
    "p.fit(fdat.T)\n",
    "print(p.explained_variance_ratio_.round(2))\n",
    "print(p.transform(fdat.T).shape)\n",
    "print(p.transform(fdat.T))"
   ]
  },
  {
   "cell_type": "markdown",
   "id": "f483d739-b89a-4f21-90f9-a020d3c69592",
   "metadata": {},
   "source": [
    "## BETTER"
   ]
  },
  {
   "cell_type": "code",
   "execution_count": 58,
   "id": "54f5058e-9aaf-49b8-8a08-f902d9738f15",
   "metadata": {
    "tags": []
   },
   "outputs": [
    {
     "name": "stdout",
     "output_type": "stream",
     "text": [
      "[0.52 0.23 0.18 0.07 0.  ]\n",
      "(5, 5)\n",
      "[[-1.62136899e+03  5.62039856e+03  1.20287102e+03  8.95385585e+01\n",
      "   3.33064132e-12]\n",
      " [-1.46903688e+03 -2.94476001e+03  4.37670406e+03 -1.86400348e+02\n",
      "  -2.48689958e-13]\n",
      " [ 8.65831032e+03 -2.32644843e+02 -6.25183939e+02  1.22211434e+01\n",
      "  -1.58983937e-12]\n",
      " [-2.78418475e+03 -1.03304412e+03 -2.66156662e+03 -2.46736787e+03\n",
      "  -3.26405569e-14]\n",
      " [-2.78371970e+03 -1.40994959e+03 -2.29282451e+03  2.55200852e+03\n",
      "   5.36792832e-14]]\n"
     ]
    }
   ],
   "source": [
    "p = PCA(svd_solver=\"full\")\n",
    "p.fit(fdat)\n",
    "print(p.explained_variance_ratio_.round(2))\n",
    "print(p.transform(fdat).shape)\n",
    "print(p.transform(fdat))"
   ]
  },
  {
   "cell_type": "code",
   "execution_count": 59,
   "id": "5bf3ff0a-9e95-49cb-813c-519ce8f0b328",
   "metadata": {
    "tags": []
   },
   "outputs": [
    {
     "data": {
      "text/plain": [
       "array([[ 7.91972096e-04, -1.71574459e-03,  4.46753363e-03, ...,\n",
       "         3.31343831e-03,  3.18090277e-03,  1.48285743e-02],\n",
       "       [ 1.77523910e-03,  4.52690109e-03,  2.42604705e-03, ...,\n",
       "        -1.02026527e-03,  6.13690712e-03,  5.05816160e-03],\n",
       "       [-2.60368854e-03,  1.47902100e-03, -2.28825413e-03, ...,\n",
       "         4.24344417e-03, -1.43083841e-02, -9.40735456e-03],\n",
       "       [-8.84492362e-04,  5.70993552e-04,  8.38107780e-04, ...,\n",
       "         7.29555873e-03,  8.11402071e-03, -6.21776613e-03],\n",
       "       [-4.82767780e-01, -4.96558534e-01, -9.36134499e-04, ...,\n",
       "        -3.92225395e-05, -4.14562470e-03,  1.27767679e-03]])"
      ]
     },
     "execution_count": 59,
     "metadata": {},
     "output_type": "execute_result"
    }
   ],
   "source": [
    "p.components_"
   ]
  },
  {
   "cell_type": "code",
   "execution_count": 62,
   "id": "66014b8e-b239-4b63-ae4e-68c708ed51cd",
   "metadata": {
    "tags": []
   },
   "outputs": [
    {
     "data": {
      "text/plain": [
       "array([[-1.62136899e+03,  5.62039856e+03,  1.20287102e+03,\n",
       "         8.95385585e+01,  1.25587199e-12],\n",
       "       [-1.46903688e+03, -2.94476001e+03,  4.37670406e+03,\n",
       "        -1.86400348e+02,  1.25587199e-12],\n",
       "       [ 8.65831032e+03, -2.32644843e+02, -6.25183939e+02,\n",
       "         1.22211434e+01,  1.25587199e-12],\n",
       "       [-2.78418475e+03, -1.03304412e+03, -2.66156662e+03,\n",
       "        -2.46736787e+03,  1.25587199e-12],\n",
       "       [-2.78371970e+03, -1.40994959e+03, -2.29282451e+03,\n",
       "         2.55200852e+03,  1.25587199e-12]])"
      ]
     },
     "execution_count": 62,
     "metadata": {},
     "output_type": "execute_result"
    }
   ],
   "source": [
    "p.fit_transform(fdat)"
   ]
  },
  {
   "cell_type": "code",
   "execution_count": 85,
   "id": "2bc0f6fd-4d9d-4ff0-a11c-d461b52ce649",
   "metadata": {
    "tags": []
   },
   "outputs": [
    {
     "data": {
      "text/plain": [
       "(12330, 5)"
      ]
     },
     "execution_count": 85,
     "metadata": {},
     "output_type": "execute_result"
    }
   ],
   "source": [
    "p = PCA(svd_solver=\"full\")\n",
    "p.fit(fdat.T)\n",
    "p.transform(fdat.T).shape"
   ]
  },
  {
   "cell_type": "code",
   "execution_count": 81,
   "id": "19d810e6-036c-4692-951f-38488d318876",
   "metadata": {
    "tags": []
   },
   "outputs": [
    {
     "data": {
      "text/plain": [
       "array([[-1.13951912e+03,  2.89304529e+03,  9.81982582e+02,\n",
       "         2.37242475e+01,  3.41282558e-13],\n",
       "       [-6.47480001e+02, -1.97694937e+03,  2.14931334e+03,\n",
       "        -1.06364351e+02, -8.52651283e-14],\n",
       "       [ 4.57880805e+03,  1.24305942e+02, -3.12483706e+02,\n",
       "        -1.19706568e+00,  4.93383112e-13],\n",
       "       [-1.42468701e+03, -4.36305908e+02, -1.52467866e+03,\n",
       "        -1.35954288e+03,  1.44773082e-13],\n",
       "       [-1.36712192e+03, -6.04095954e+02, -1.29413356e+03,\n",
       "         1.44338005e+03,  4.12558876e-13]])"
      ]
     },
     "execution_count": 81,
     "metadata": {},
     "output_type": "execute_result"
    }
   ],
   "source": [
    "p.transform(fdat)"
   ]
  },
  {
   "cell_type": "code",
   "execution_count": 28,
   "id": "28b4615f-78d9-433e-bfae-22c683110709",
   "metadata": {
    "tags": []
   },
   "outputs": [
    {
     "data": {
      "text/plain": [
       "array([[ 35.09254987,   1.84823109, -26.95524783],\n",
       "       [ 20.62345762,  -6.97518185,  14.26437289],\n",
       "       [-10.00837374,  -9.36250917, -19.14650039],\n",
       "       [ 71.71991148,  -8.03803101,   2.46462067],\n",
       "       [ 99.82916223,  -4.23573798,   4.44893158],\n",
       "       [ 11.83820417,  -6.23836955, -24.83277204],\n",
       "       [126.50877949,   9.37732919,  39.01930944],\n",
       "       [131.03109394,  10.18264907,  20.80133118],\n",
       "       [118.3463893 ,   1.30253536,  54.05596768],\n",
       "       [127.06485821,   3.13388586,   6.79978443]])"
      ]
     },
     "execution_count": 28,
     "metadata": {},
     "output_type": "execute_result"
    }
   ],
   "source": [
    "mapper.get_vectors_relative(mapper.labels[0], 2)"
   ]
  },
  {
   "cell_type": "code",
   "execution_count": 37,
   "id": "a76247f3-4b75-42fe-ace3-f2119d34d7a8",
   "metadata": {
    "tags": []
   },
   "outputs": [
    {
     "data": {
      "text/plain": [
       "60"
      ]
     },
     "execution_count": 37,
     "metadata": {},
     "output_type": "execute_result"
    }
   ],
   "source": [
    "np.product((3, 4, 5))"
   ]
  },
  {
   "cell_type": "code",
   "execution_count": 29,
   "id": "ff288617-4ea1-4474-9e92-44ffc453b543",
   "metadata": {
    "tags": []
   },
   "outputs": [],
   "source": [
    "# data for three models\n",
    "z = np.array([mapper.get_vectors_relative(mapper.labels[0], i) for i in mapper.vertex_ids])"
   ]
  },
  {
   "cell_type": "code",
   "execution_count": 36,
   "id": "bfa89aed-0399-40ee-b59b-db556751a071",
   "metadata": {
    "tags": []
   },
   "outputs": [
    {
     "data": {
      "text/plain": [
       "array([ 39.40183396,  49.64633372,  39.96769731, ..., -55.78841887,\n",
       "        24.71469287,  12.1653359 ])"
      ]
     },
     "execution_count": 36,
     "metadata": {},
     "output_type": "execute_result"
    }
   ],
   "source": [
    "z.flatten().reshape((z."
   ]
  },
  {
   "cell_type": "code",
   "execution_count": 16,
   "id": "ad4313f3-3513-4966-b26f-de7e13e8e70a",
   "metadata": {
    "tags": []
   },
   "outputs": [
    {
     "data": {
      "text/plain": [
       "159"
      ]
     },
     "execution_count": 16,
     "metadata": {},
     "output_type": "execute_result"
    }
   ],
   "source": [
    "# 159 and 79 seem to be identical\n",
    "mapper.vertex_ids[211]"
   ]
  },
  {
   "cell_type": "code",
   "execution_count": 17,
   "id": "67ebb41e-fdaa-46b7-ab77-df8b68c563f6",
   "metadata": {
    "tags": []
   },
   "outputs": [
    {
     "data": {
      "text/plain": [
       "(array([ 658.16,  479.37, 1097.3 ], dtype=float32),\n",
       " array([ 678.37,  489.96, 1107.8 ], dtype=float32))"
      ]
     },
     "execution_count": 17,
     "metadata": {},
     "output_type": "execute_result"
    }
   ],
   "source": [
    "mapper.verts[0, 159], mapper.verts[0, 78] "
   ]
  },
  {
   "cell_type": "code",
   "execution_count": 19,
   "id": "1ff44c6d-f205-4294-a2c1-e797eb6c65bc",
   "metadata": {
    "tags": []
   },
   "outputs": [
    {
     "data": {
      "text/plain": [
       "array([[159,  79],\n",
       "       [159,  78],\n",
       "       [159, 158],\n",
       "       [159,   0],\n",
       "       [159, 120],\n",
       "       [159,  81],\n",
       "       [159,  80],\n",
       "       [159,   8],\n",
       "       [159,  82],\n",
       "       [159,  83]])"
      ]
     },
     "execution_count": 19,
     "metadata": {},
     "output_type": "execute_result"
    }
   ],
   "source": [
    "mapper.get_vector_ids(mapper.labels[0], 159)"
   ]
  },
  {
   "cell_type": "code",
   "execution_count": 20,
   "id": "9f6c1271-27aa-4fd9-8cd4-ecd2abdc8fa5",
   "metadata": {
    "tags": []
   },
   "outputs": [
    {
     "data": {
      "text/plain": [
       "array([[  0.        ,   0.        ,   0.        ],\n",
       "       [ -4.32882362,  14.4830352 ,  20.05854375],\n",
       "       [ -5.30833184,  22.8074959 , -20.00675496],\n",
       "       [  6.64321941,  14.19409901,  12.45107582],\n",
       "       [-16.52592147,   5.55977066,  24.72728392],\n",
       "       [-80.22358634, -61.46085111, -52.36223902],\n",
       "       [-81.9887038 , -44.4378293 , -60.11437995],\n",
       "       [-99.88630129, -43.54115984, -58.00495164],\n",
       "       [-79.6701191 , -73.3484335 , -37.65485792],\n",
       "       [-80.00086089, -76.81475235, -18.92297752]])"
      ]
     },
     "execution_count": 20,
     "metadata": {},
     "output_type": "execute_result"
    }
   ],
   "source": [
    "mapper.get_vectors_relative(mapper.labels[0], 79)"
   ]
  },
  {
   "cell_type": "code",
   "execution_count": 22,
   "id": "a9dcc76e-a197-490d-8640-748748fb3c4d",
   "metadata": {
    "tags": []
   },
   "outputs": [
    {
     "data": {
      "text/plain": [
       "array([[   0.  ,    0.  ,    0.  ],\n",
       "       [  20.21,   10.59,   10.5 ],\n",
       "       [ -21.67,   20.04,    8.8 ],\n",
       "       [  -4.71,    6.6 ,   18.3 ],\n",
       "       [ -20.29,  -16.04,   15.7 ],\n",
       "       [ -21.25,  -51.1 ,  -99.46],\n",
       "       [ -31.24,  -35.22, -100.47],\n",
       "       [ -46.48,  -43.23, -105.87],\n",
       "       [ -16.25,  -67.42,  -91.3 ],\n",
       "       [ -17.41,  -80.07,  -77.1 ]])"
      ]
     },
     "execution_count": 22,
     "metadata": {},
     "output_type": "execute_result"
    }
   ],
   "source": [
    "mapper.get_vectors_absolute(mapper.labels[0], 79)"
   ]
  },
  {
   "cell_type": "code",
   "execution_count": 24,
   "id": "a9137c35-9ad3-4a0a-a72e-3994013c7032",
   "metadata": {
    "tags": []
   },
   "outputs": [
    {
     "data": {
      "text/plain": [
       "array([[  0.        ,   0.        ,   0.        ],\n",
       "       [ -4.32882362,  14.4830352 ,  20.05854375],\n",
       "       [ -5.30833184,  22.8074959 , -20.00675496],\n",
       "       [  6.64321941,  14.19409901,  12.45107582],\n",
       "       [-16.52592147,   5.55977066,  24.72728392],\n",
       "       [-80.22358634, -61.46085111, -52.36223902],\n",
       "       [-81.9887038 , -44.4378293 , -60.11437995],\n",
       "       [-99.88630129, -43.54115984, -58.00495164],\n",
       "       [-79.6701191 , -73.3484335 , -37.65485792],\n",
       "       [-80.00086089, -76.81475235, -18.92297752]])"
      ]
     },
     "execution_count": 24,
     "metadata": {},
     "output_type": "execute_result"
    }
   ],
   "source": [
    "mapper.get_vectors_relative(mapper.labels[0], 159)"
   ]
  },
  {
   "cell_type": "code",
   "execution_count": 26,
   "id": "e0954519-0c73-4bf5-8f97-2725f56b6ea5",
   "metadata": {
    "tags": []
   },
   "outputs": [
    {
     "data": {
      "text/plain": [
       "array([[Vertex(id=159, coords=(658.16, 479.37, 1097.3)),\n",
       "        Vertex(id=78, coords=(678.37, 489.96, 1107.8)),\n",
       "        Vertex(id=158, coords=(636.49, 499.41, 1106.1))],\n",
       "       [Vertex(id=159, coords=(658.16, 479.37, 1097.3)),\n",
       "        Vertex(id=158, coords=(636.49, 499.41, 1106.1)),\n",
       "        Vertex(id=0, coords=(653.45, 485.97, 1115.6))],\n",
       "       [Vertex(id=159, coords=(658.16, 479.37, 1097.3)),\n",
       "        Vertex(id=78, coords=(678.37, 489.96, 1107.8)),\n",
       "        Vertex(id=0, coords=(653.45, 485.97, 1115.6))],\n",
       "       [Vertex(id=159, coords=(658.16, 479.37, 1097.3)),\n",
       "        Vertex(id=78, coords=(678.37, 489.96, 1107.8)),\n",
       "        Vertex(id=158, coords=(636.49, 499.41, 1106.1))],\n",
       "       [Vertex(id=159, coords=(658.16, 479.37, 1097.3)),\n",
       "        Vertex(id=78, coords=(678.37, 489.96, 1107.8)),\n",
       "        Vertex(id=158, coords=(636.49, 499.41, 1106.1))],\n",
       "       [Vertex(id=159, coords=(658.16, 479.37, 1097.3)),\n",
       "        Vertex(id=78, coords=(678.37, 489.96, 1107.8)),\n",
       "        Vertex(id=158, coords=(636.49, 499.41, 1106.1))],\n",
       "       [Vertex(id=159, coords=(658.16, 479.37, 1097.3)),\n",
       "        Vertex(id=78, coords=(678.37, 489.96, 1107.8)),\n",
       "        Vertex(id=158, coords=(636.49, 499.41, 1106.1))],\n",
       "       [Vertex(id=159, coords=(658.16, 479.37, 1097.3)),\n",
       "        Vertex(id=78, coords=(678.37, 489.96, 1107.8)),\n",
       "        Vertex(id=158, coords=(636.49, 499.41, 1106.1))],\n",
       "       [Vertex(id=159, coords=(658.16, 479.37, 1097.3)),\n",
       "        Vertex(id=78, coords=(678.37, 489.96, 1107.8)),\n",
       "        Vertex(id=158, coords=(636.49, 499.41, 1106.1))],\n",
       "       [Vertex(id=159, coords=(658.16, 479.37, 1097.3)),\n",
       "        Vertex(id=78, coords=(678.37, 489.96, 1107.8)),\n",
       "        Vertex(id=158, coords=(636.49, 499.41, 1106.1))]], dtype=object)"
      ]
     },
     "execution_count": 26,
     "metadata": {},
     "output_type": "execute_result"
    }
   ],
   "source": [
    "mapper.get_vector_faces(mapper.labels[0], 159)"
   ]
  },
  {
   "cell_type": "code",
   "execution_count": null,
   "id": "3c108773-7a01-46b8-8dfe-918fc04055f0",
   "metadata": {
    "tags": []
   },
   "outputs": [],
   "source": []
  },
  {
   "cell_type": "markdown",
   "id": "6c272652-dd4d-4712-9819-9b9885cf430e",
   "metadata": {
    "tags": []
   },
   "source": [
    "## DATA"
   ]
  },
  {
   "cell_type": "code",
   "execution_count": 2,
   "id": "00520b28-3eea-4da3-ac2b-d455198f7233",
   "metadata": {
    "tags": []
   },
   "outputs": [],
   "source": [
    "DIR = Path(\"../../PhyloShapeTest/data/Gesneriaceae.Gigascience.2020/\")\n",
    "LANDMARKS = DIR / \"Landmark_description_rev_1205.csv\"\n",
    "M0 = \"12_K039105_04\""
   ]
  },
  {
   "cell_type": "code",
   "execution_count": 6,
   "id": "a2ea6b14-b48b-4bef-900f-afcb1ac9e377",
   "metadata": {
    "tags": []
   },
   "outputs": [
    {
     "data": {
      "text/plain": [
       "{'34_HC3403-3_17': Model(nverts=420, nfaces=0),\n",
       " '58_K039170_01': Model(nverts=420, nfaces=0),\n",
       " '70_K039203_04': Model(nverts=420, nfaces=0),\n",
       " '69_K039200_02': Model(nverts=420, nfaces=0),\n",
       " '70_K039203_05': Model(nverts=420, nfaces=0)}"
      ]
     },
     "execution_count": 6,
     "metadata": {},
     "output_type": "execute_result"
    }
   ],
   "source": []
  },
  {
   "cell_type": "code",
   "execution_count": 8,
   "id": "25d7edf1-fbe8-43f9-994a-9f3a2c40fb71",
   "metadata": {
    "tags": []
   },
   "outputs": [
    {
     "name": "stderr",
     "output_type": "stream",
     "text": [
      "⚠️ 2023-05-12-14:54:21.66 | \u001b[35m      mapper.py | \u001b[0m\u001b[36m_set_init_vectors         | \u001b[0m\u001b[33m\u001b[1m9 identical vertices will be excluded: [15, 31, 47, 63, 87, 95, 103, 111, 119]\u001b[0m\n",
      "ℹ️ 2023-05-12-14:54:24.64 | \u001b[35m      mapper.py | \u001b[0m\u001b[36m_set_ordered_vectors      | \u001b[0m\u001b[1mbest vertex path: [166, 270, 165, 167, 269], ... [185, 315, 288, 184, 314]\u001b[0m\n"
     ]
    }
   ],
   "source": []
  },
  {
   "cell_type": "code",
   "execution_count": 36,
   "id": "46560bac-9b43-4991-8f9d-4a06ade41835",
   "metadata": {
    "tags": []
   },
   "outputs": [
    {
     "data": {
      "text/plain": [
       "array([[ -9.06463216,   1.84823109,  26.95524783],\n",
       "       [ -8.27878173,  22.04015151, -11.09711649],\n",
       "       [-11.37326254,  38.02715506,  19.14650039],\n",
       "       [ 55.75600112,  -8.60897693,  -2.46462067],\n",
       "       [ 76.97942911, -27.42794381,  -4.44893158],\n",
       "       [  5.02748257,  23.26068038,  24.83277204],\n",
       "       [ 89.27040413, -42.34411299, -54.05596768],\n",
       "       [ 91.54945124, -53.59723937, -39.01930944],\n",
       "       [ 88.09159089, -25.06460629, -61.99556134],\n",
       "       [ 94.8560865 , -56.78566082, -20.80133118]])"
      ]
     },
     "execution_count": 36,
     "metadata": {},
     "output_type": "execute_result"
    }
   ],
   "source": [
    "np.vstack([i.relative for i in mapper.vectors['34_HC3403-3_17'][3]])"
   ]
  },
  {
   "cell_type": "code",
   "execution_count": null,
   "id": "b48a82e5-fccb-4483-9cc7-8d50742acfde",
   "metadata": {},
   "outputs": [],
   "source": []
  },
  {
   "cell_type": "code",
   "execution_count": null,
   "id": "e0bb646f-070e-47ab-a54d-c08b859b8fc4",
   "metadata": {},
   "outputs": [],
   "source": []
  },
  {
   "cell_type": "code",
   "execution_count": null,
   "id": "0990d1ed-75cd-4d97-a121-b854031cb39e",
   "metadata": {},
   "outputs": [],
   "source": []
  },
  {
   "cell_type": "code",
   "execution_count": 23,
   "id": "3f710d03-fb83-4b8d-b1a8-2136f91b9aee",
   "metadata": {
    "tags": []
   },
   "outputs": [
    {
     "data": {
      "text/plain": [
       "[PosixPath('../../PhyloShapeTest/data/Gesneriaceae.Gigascience.2020/samples.manual_sum.tab')]"
      ]
     },
     "execution_count": 23,
     "metadata": {},
     "output_type": "execute_result"
    }
   ],
   "source": [
    "sorted(DIR.glob(\"samples*\"))"
   ]
  },
  {
   "cell_type": "code",
   "execution_count": 25,
   "id": "4f7aabe1-bee2-48c8-9363-76b4796e8930",
   "metadata": {},
   "outputs": [],
   "source": [
    "from phyloshape.shape.src.shape_alignment import ShapeAlignment"
   ]
  },
  {
   "cell_type": "code",
   "execution_count": 30,
   "id": "0a45c308-be37-4204-b646-ef92b30e46d8",
   "metadata": {
    "tags": []
   },
   "outputs": [],
   "source": [
    "ali = ShapeAlignment()"
   ]
  },
  {
   "cell_type": "code",
   "execution_count": 31,
   "id": "b7db6f98-fad5-4131-a224-dcaa74328908",
   "metadata": {
    "tags": []
   },
   "outputs": [],
   "source": [
    "ali.append(label=\"A\", sample=np.array([]))"
   ]
  },
  {
   "cell_type": "code",
   "execution_count": 32,
   "id": "a277025f-500d-444a-b2ed-7feae732aa15",
   "metadata": {
    "tags": []
   },
   "outputs": [
    {
     "data": {
      "text/plain": [
       "<phyloshape.shape.src.shape_alignment.ShapeAlignment at 0x7f46e4988310>"
      ]
     },
     "execution_count": 32,
     "metadata": {},
     "output_type": "execute_result"
    }
   ],
   "source": [
    "ali."
   ]
  },
  {
   "cell_type": "code",
   "execution_count": 6,
   "id": "ce334155-a61a-44b4-9179-82fe795322bc",
   "metadata": {
    "tags": []
   },
   "outputs": [],
   "source": [
    "def visualize_points(*input_points, **kwargs):\n",
    "    plot = k3d.plot(grid_visible=False) #,\n",
    "                #camera_auto_fit=False)\n",
    "    offset_v = np.array([0, 0, 0])\n",
    "    for _points in input_points:\n",
    "        plt_points = k3d.points(_points + offset_v,\n",
    "                                point_size=kwargs.get(\"point_size\", 20),\n",
    "                                shader=\"flat\")\n",
    "        plot += plt_points\n",
    "        offset_v[0] = offset_v[0] + kwargs.get(\"xgap\", 2000)\n",
    "    return plot"
   ]
  },
  {
   "cell_type": "code",
   "execution_count": 7,
   "id": "d18d9be6-893f-46be-a0df-7eb040620f02",
   "metadata": {
    "tags": []
   },
   "outputs": [],
   "source": [
    "# PCA transformator\n",
    "\n",
    "class VectorTrans:\n",
    "    \n",
    "    def __init__(self):\n",
    "        self.sample_data = None\n",
    "        self.sample_size = None\n",
    "        self.each_s_shape = None\n",
    "        self.maxs = None\n",
    "        self.sample_normalized = None\n",
    "        self.pca = None\n",
    "        \n",
    "    def transform(self, sample_data):\n",
    "        if self.sample_data is None:\n",
    "            self.sample_data = sample_data\n",
    "            self.sample_size = len(self.sample_data)\n",
    "            self.each_s_shape = self.sample_data[0].shape\n",
    "            # Normalize data to [0,1] intervals. Supply the scale factor or\n",
    "            # compute the maximum value among all the samples.\n",
    "            self.maxs = np.max(sample_data)\n",
    "            self.sample_normalized = np.array([np.ravel(s) / self.maxs for s in sample_data])\n",
    "        if self.pca is None:\n",
    "            self.pca = PCA()\n",
    "            self.pca.fit(self.sample_normalized)\n",
    "        return self.pca.transform(self.sample_normalized)\n",
    "    \n",
    "    def inverse_transform(self, transformed_data_per_sample):\n",
    "        reconstructed_sample = self.pca.inverse_transform(transformed_data_per_sample)\n",
    "        reconstructed_sample *= self.maxs\n",
    "        return reconstructed_sample.reshape(self.each_s_shape)\n",
    "    \n",
    "    "
   ]
  },
  {
   "cell_type": "code",
   "execution_count": null,
   "id": "9dbf550f-2a22-42ee-accf-53fc6c1b3527",
   "metadata": {},
   "outputs": [],
   "source": []
  }
 ],
 "metadata": {
  "kernelspec": {
   "display_name": "Python 3 (ipykernel)",
   "language": "python",
   "name": "python3"
  },
  "language_info": {
   "codemirror_mode": {
    "name": "ipython",
    "version": 3
   },
   "file_extension": ".py",
   "mimetype": "text/x-python",
   "name": "python",
   "nbconvert_exporter": "python",
   "pygments_lexer": "ipython3",
   "version": "3.10.12"
  }
 },
 "nbformat": 4,
 "nbformat_minor": 5
}
