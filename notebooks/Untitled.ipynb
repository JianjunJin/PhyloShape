{
 "cells": [
  {
   "cell_type": "code",
   "execution_count": null,
   "id": "f5a4c921-1061-4714-80e1-d68e4a7aa292",
   "metadata": {},
   "outputs": [],
   "source": []
  },
  {
   "cell_type": "code",
   "execution_count": 1,
   "id": "33f383c9-8a90-4edb-a90a-3a7920254db9",
   "metadata": {},
   "outputs": [],
   "source": [
    "import pandas as pd\n",
    "import phyloshape"
   ]
  },
  {
   "cell_type": "code",
   "execution_count": 2,
   "id": "6d7062d9-884e-4447-bf71-06d3febc94a4",
   "metadata": {},
   "outputs": [
    {
     "data": {
      "text/html": [
       "<div>\n",
       "<style scoped>\n",
       "    .dataframe tbody tr th:only-of-type {\n",
       "        vertical-align: middle;\n",
       "    }\n",
       "\n",
       "    .dataframe tbody tr th {\n",
       "        vertical-align: top;\n",
       "    }\n",
       "\n",
       "    .dataframe thead th {\n",
       "        text-align: right;\n",
       "    }\n",
       "</style>\n",
       "<table border=\"1\" class=\"dataframe\">\n",
       "  <thead>\n",
       "    <tr style=\"text-align: right;\">\n",
       "      <th></th>\n",
       "      <th>dset</th>\n",
       "      <th>x</th>\n",
       "      <th>y</th>\n",
       "      <th>z</th>\n",
       "    </tr>\n",
       "  </thead>\n",
       "  <tbody>\n",
       "    <tr>\n",
       "      <th>0</th>\n",
       "      <td>0</td>\n",
       "      <td>0.000000</td>\n",
       "      <td>0.136314</td>\n",
       "      <td>-0.481060</td>\n",
       "    </tr>\n",
       "    <tr>\n",
       "      <th>1</th>\n",
       "      <td>0</td>\n",
       "      <td>-0.154350</td>\n",
       "      <td>0.136380</td>\n",
       "      <td>-0.455606</td>\n",
       "    </tr>\n",
       "    <tr>\n",
       "      <th>2</th>\n",
       "      <td>0</td>\n",
       "      <td>-0.293591</td>\n",
       "      <td>0.123096</td>\n",
       "      <td>-0.385554</td>\n",
       "    </tr>\n",
       "    <tr>\n",
       "      <th>3</th>\n",
       "      <td>0</td>\n",
       "      <td>-0.404093</td>\n",
       "      <td>0.097763</td>\n",
       "      <td>-0.277761</td>\n",
       "    </tr>\n",
       "    <tr>\n",
       "      <th>4</th>\n",
       "      <td>0</td>\n",
       "      <td>-0.475040</td>\n",
       "      <td>0.062861</td>\n",
       "      <td>-0.142780</td>\n",
       "    </tr>\n",
       "  </tbody>\n",
       "</table>\n",
       "</div>"
      ],
      "text/plain": [
       "   dset         x         y         z\n",
       "0     0  0.000000  0.136314 -0.481060\n",
       "1     0 -0.154350  0.136380 -0.455606\n",
       "2     0 -0.293591  0.123096 -0.385554\n",
       "3     0 -0.404093  0.097763 -0.277761\n",
       "4     0 -0.475040  0.062861 -0.142780"
      ]
     },
     "execution_count": 2,
     "metadata": {},
     "output_type": "execute_result"
    }
   ],
   "source": [
    "points = pd.read_csv(\"../simbeak/datasets/TEST_landmarks.csv\", index_col=0)\n",
    "points[\"dset\"] = points[\"dset\"].astype(int)\n",
    "points.head()"
   ]
  },
  {
   "cell_type": "code",
   "execution_count": 10,
   "id": "e84a5f63-aaa7-4188-82fc-58a243d45506",
   "metadata": {},
   "outputs": [],
   "source": [
    "coords = points.loc[points.dset == 1, [\"x\", \"y\", \"z\"]].values"
   ]
  },
  {
   "cell_type": "code",
   "execution_count": 12,
   "id": "44f68b63-6e6e-4de7-8e4f-a404b2e84f78",
   "metadata": {},
   "outputs": [],
   "source": [
    "model = phyloshape.io.load_model_from_coordinates(coords)"
   ]
  },
  {
   "cell_type": "code",
   "execution_count": 20,
   "id": "9bc47055-6d94-4435-884d-897f2e791c9c",
   "metadata": {},
   "outputs": [
    {
     "data": {
      "application/vnd.jupyter.widget-view+json": {
       "model_id": "c101858e403040aab3a06e62123ee38c",
       "version_major": 2,
       "version_minor": 0
      },
      "text/plain": [
       "Plot(antialias=5, axes=['x', 'y', 'z'], axes_helper=1.0, axes_helper_colors=[16711680, 65280, 255], background…"
      ]
     },
     "execution_count": 20,
     "metadata": {},
     "output_type": "execute_result"
    }
   ],
   "source": []
  },
  {
   "cell_type": "code",
   "execution_count": null,
   "id": "105935fd-579d-4f05-9154-111acfc5f7c1",
   "metadata": {},
   "outputs": [],
   "source": []
  },
  {
   "cell_type": "code",
   "execution_count": null,
   "id": "ee975065-ecd6-465a-a30f-3411b9422be9",
   "metadata": {},
   "outputs": [],
   "source": []
  }
 ],
 "metadata": {
  "kernelspec": {
   "display_name": "Python 3 (ipykernel)",
   "language": "python",
   "name": "python3"
  },
  "language_info": {
   "codemirror_mode": {
    "name": "ipython",
    "version": 3
   },
   "file_extension": ".py",
   "mimetype": "text/x-python",
   "name": "python",
   "nbconvert_exporter": "python",
   "pygments_lexer": "ipython3",
   "version": "3.10.13"
  }
 },
 "nbformat": 4,
 "nbformat_minor": 5
}
