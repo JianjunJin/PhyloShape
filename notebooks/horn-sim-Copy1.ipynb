{
 "cells": [
  {
   "cell_type": "markdown",
   "id": "c25d31b2-78ae-4fa7-931a-310c89007f1d",
   "metadata": {},
   "source": [
    "## Horn model\n",
    "\n",
    "1. Create a series of vectors, same rotation from previous plane each time.\n",
    "2. Draw a circle on the reference plane with decreasing radius each step."
   ]
  },
  {
   "cell_type": "code",
   "execution_count": 1,
   "id": "a91c0405-c14b-4b79-84e3-93deafb23659",
   "metadata": {
    "tags": []
   },
   "outputs": [],
   "source": [
    "import numpy as np\n",
    "import k3d\n",
    "from phyloshape.shape.src.core import Vertex, Vector"
   ]
  },
  {
   "cell_type": "markdown",
   "id": "2dab6299-ecf2-4eb8-b9a9-76dbeca6e43b",
   "metadata": {
    "tags": []
   },
   "source": [
    "### GENERATE DATA"
   ]
  },
  {
   "cell_type": "code",
   "execution_count": 2,
   "id": "2777a20f-8836-49c2-908d-6d88d21d2f5f",
   "metadata": {
    "tags": []
   },
   "outputs": [],
   "source": [
    "def generate_horn_path(\n",
    "    length: float=5, \n",
    "    curve_radius_start: float=1,\n",
    "    curve_radius_end: float=None,\n",
    "    curve_x: float=1, \n",
    "    curve_y: float=1, \n",
    "    rotation: float=2 * np.pi,\n",
    "    vector: np.ndarray=None,\n",
    "    num_intervals: int=20,\n",
    ") -> np.ndarray:\n",
    "    \"\"\"Generate points along a spiral in x, y, z forming the multi-vector path that\n",
    "    the beak will follow.\n",
    "\n",
    "    Parameters\n",
    "    ----------\n",
    "    length: float\n",
    "        length of vector beak will follow (rotate around)\n",
    "    curve_radius_start: float\n",
    "        radius of circle around which beak is rotating at start\n",
    "    curve_radius_end: float\n",
    "        radius of circle around which beak is rotating at end\n",
    "    curve_x: float\n",
    "        multiplier of cosine rotation (0 - 1)\n",
    "    curve_y: float\n",
    "        multiplier of sin rotation (0 - 1)\n",
    "    rotation: ndarray\n",
    "        rotation of beak around circle in radians\n",
    "    vector: ndarray\n",
    "        unit vector path of beak; default=[0, 0, 1]\n",
    "    num_intervals: int\n",
    "        number of intervals at which points are sampled along vector\n",
    "    \"\"\"\n",
    "    # defaults\n",
    "    curve_radius_end = curve_radius_start if curve_radius_end is None else curve_radius_end\n",
    "    vector = np.array([0, 0, 1]) if vector is None else vector\n",
    "\n",
    "    # curve_[x,y] scale the cos vs sin function between -1 and 1 magnitudes\n",
    "    curve_x = min(1, max(-1, curve_x))\n",
    "    curve_y = min(1, max(-1, curve_y))\n",
    "    \n",
    "    # generate points for the surface\n",
    "    theta = np.linspace(0, rotation, num_intervals)\n",
    "    curve_radii = np.linspace(curve_radius_start, curve_radius_end, num_intervals)\n",
    "    x = curve_x * curve_radii * np.cos(theta)\n",
    "    y = curve_y * curve_radii * np.sin(theta)\n",
    "    z = np.linspace(0, length, num_intervals)\n",
    "\n",
    "    # Create the point cloud and center first point on [0, 0, 0]\n",
    "    point_cloud = np.column_stack((x, y, z)) \n",
    "    point_cloud -= point_cloud[0]\n",
    "\n",
    "    # todo: rotate by vector ...\n",
    "    # ...\n",
    "    return point_cloud \n"
   ]
  },
  {
   "cell_type": "code",
   "execution_count": 3,
   "id": "fd49a8fe-ddd7-4028-8d87-52dc26e5769e",
   "metadata": {},
   "outputs": [],
   "source": [
    "def get_distance_ratio(p0, p1, p2, p3):\n",
    "    \"\"\"get ratio of rx and ry of circle\"\"\"\n",
    "    verts = [Vertex(i, j) for i, j in enumerate([p0, p1, p2, p3])]\n",
    "    v0 = Vector(verts[0], verts[2])\n",
    "    v1 = Vector(verts[1], verts[3])\n",
    "    return v0.dist / v1.dist"
   ]
  },
  {
   "cell_type": "code",
   "execution_count": 4,
   "id": "8861f992-9c75-4dd7-96cb-c3d1a4d4bf92",
   "metadata": {
    "tags": []
   },
   "outputs": [],
   "source": [
    "def generate_points_on_circle(radius, num_points, vector, origin, correct=False):\n",
    "    \"\"\"Generate N points along the radius of a circle oriented in 3D space\n",
    "    by a vector, with the specified origin position.\n",
    "    \n",
    "    Parameters\n",
    "    -----------\n",
    "    radius (float):\n",
    "        Radius of the circle.\n",
    "    num_points (int):\n",
    "        Number of points to generate.\n",
    "    vector (ndarray): \n",
    "        3D vector representing the orientation of the circle.\n",
    "    origin (ndarray):\n",
    "        3D vector representing the origin position of the circle.\n",
    "    \"\"\"\n",
    "    theta_test = np.array([0, np.pi / 2, np.pi, np.pi * 3/2])\n",
    "\n",
    "    # get rotation matrix\n",
    "    theta = np.linspace(0, 2 * np.pi, num_points, endpoint=False)\n",
    "    u = np.cross(vector, [1, 0, 0])\n",
    "    if np.linalg.norm(u) < 1e-6:\n",
    "        u = np.cross(vector, [0, 1, 0])\n",
    "    u = u / np.linalg.norm(u)\n",
    "    v = np.cross(vector, u)\n",
    "\n",
    "    # ensure it is a circle instead of ellipse\n",
    "    if correct:\n",
    "        points = (\n",
    "            origin + radius * np.outer(np.cos(theta_test), u)\n",
    "            + radius * np.outer(np.sin(theta_test), v)\n",
    "        )\n",
    "        ratio = get_distance_ratio(*points)\n",
    "        v *= ratio\n",
    "\n",
    "    # get points along circumference of circle\n",
    "    points = (\n",
    "        origin \n",
    "        + radius * np.outer(np.cos(theta), u)\n",
    "        + radius * np.outer(np.sin(theta), v)\n",
    "    )\n",
    "    return points\n"
   ]
  },
  {
   "cell_type": "markdown",
   "id": "940c8680-c2d8-4990-b9d2-e8d82687b965",
   "metadata": {
    "tags": []
   },
   "source": [
    "### PLOT FUNCTIO"
   ]
  },
  {
   "cell_type": "code",
   "execution_count": 5,
   "id": "3ad41d04-2995-44f0-9d8b-a290cd27cb2c",
   "metadata": {},
   "outputs": [],
   "source": [
    "def draw_beak(\n",
    "    length: float = 5,\n",
    "    curve_radius_start: float = 1,\n",
    "    curve_radius_end: float = None,\n",
    "    curve_x: float = 1,\n",
    "    curve_y: float = 1,\n",
    "    rotation: float = 2 * np.pi,\n",
    "    beak_radius_start: float = 1,\n",
    "    beak_radius_end: float = 0.1,\n",
    "    num_intervals: int=20,\n",
    "):\n",
    "    \"\"\"Return a k3d plot of ...\n",
    "\n",
    "    \"\"\"\n",
    "    p = k3d.plot()#camera_mode=\"orbit\")\n",
    "\n",
    "    # get vertices along beak path\n",
    "    horn_path = generate_horn_path(\n",
    "        length=length, \n",
    "        curve_radius_start=curve_radius_start,\n",
    "        curve_radius_end=curve_radius_end,\n",
    "        curve_x=curve_x,\n",
    "        curve_y=curve_y,\n",
    "        rotation=rotation,\n",
    "        num_intervals=num_intervals,\n",
    "    )\n",
    "\n",
    "    # get radius of beak at each interval along path\n",
    "    radii = np.geomspace(beak_radius_start, beak_radius_end, horn_path.shape[0])\n",
    "\n",
    "    # get Vertex object at each point on beak path\n",
    "    vertices = [Vertex(i, horn_path[i]) for i in range(horn_path.shape[0])]\n",
    "\n",
    "    # ...\n",
    "    for i in range(len(vertices) - 1):\n",
    "        v = Vector(vertices[i], vertices[i + 1])\n",
    "\n",
    "        #skew = 4 if not (xcurve or ycurve) else min(4, radius) #3#4\n",
    "        cpoints = generate_points_on_circle(\n",
    "            radius=radii[i],\n",
    "            num_points=20,\n",
    "            vector=v.absolute,\n",
    "            origin=vertices[i].coords,\n",
    "            correct=True,\n",
    "        ).astype(np.float32)\n",
    "\n",
    "        # qrt = int(cpoints.shape[0] / 4)\n",
    "        # p += k3d.points(cpoints[-qrt:], point_size=0.1, opacity=0.5, color=0x008B8B)\n",
    "        # p += k3d.points(cpoints[:qrt], point_size=0.1, opacity=0.5, color=0x008B8B)\n",
    "        # p += k3d.points(cpoints[qrt:-qrt], point_size=0.1, opacity=0.5, color=0x8B008B)\n",
    "\n",
    "        #p += k3d.vectors(vertices[i].coords.astype(np.float32), v.absolute.astype(np.float32))\n",
    "        p += k3d.points(cpoints, point_size=0.1, color=0x000000, opacity=0.35)\n",
    "        p += k3d.points(cpoints[0], point_size=0.2, color=0x008B8B)\n",
    "        p += k3d.points(cpoints[int(cpoints.shape[0] / 2)], point_size=0.2, color=0x8B008B)\n",
    "\n",
    "    return p"
   ]
  },
  {
   "cell_type": "markdown",
   "id": "8f617a1a-4be6-4e11-a2d8-cd4a9b837959",
   "metadata": {},
   "source": [
    "### TEST"
   ]
  },
  {
   "cell_type": "code",
   "execution_count": 7,
   "id": "5da72821-fd9e-45e0-b204-d20f8ab4fb6b",
   "metadata": {},
   "outputs": [],
   "source": [
    "# groenlandica\n",
    "p = draw_beak(length=8, curve_radius_start=0.5, rotation=np.pi * 2.5, num_intervals=50)"
   ]
  },
  {
   "cell_type": "code",
   "execution_count": null,
   "id": "f43c28c5-c5c7-4606-9382-a77dedd5b485",
   "metadata": {},
   "outputs": [],
   "source": [
    "# dichotoma, anas\n",
    "draw_beak(length=3, rotation=np.pi * 3/2, curve_x=0, beak_radius_end=0.05, num_intervals=50)"
   ]
  },
  {
   "cell_type": "code",
   "execution_count": null,
   "id": "30001d54-663c-4800-be2c-6dafd7f3535d",
   "metadata": {},
   "outputs": [],
   "source": [
    "# fetisowii \n",
    "draw_beak(rotation=np.pi * 2.5, curve_radius_start=1, curve_radius_end=0.5, beak_radius_start=1, beak_radius_end=0.1, num_intervals=50)"
   ]
  },
  {
   "cell_type": "code",
   "execution_count": null,
   "id": "76c3d451-2831-4a84-9ebc-1a43038bd96e",
   "metadata": {},
   "outputs": [],
   "source": [
    "# cranolopha\n",
    "draw_beak(length=5, rotation=np.pi * 3/2, curve_radius_start=1.5, curve_radius_end=1, beak_radius_start=1.5, beak_radius_end=0.2, num_intervals=50)"
   ]
  },
  {
   "cell_type": "code",
   "execution_count": null,
   "id": "0a77f973-d4f4-47cb-8000-4efd49a7f119",
   "metadata": {},
   "outputs": [],
   "source": [
    "# densispica\n",
    "draw_beak(length=1, rotation=np.pi / 2, curve_x=0, curve_y=1, beak_radius_end=0.2)"
   ]
  },
  {
   "cell_type": "code",
   "execution_count": null,
   "id": "2292cf96-2ec9-4d92-bdae-64bfef77d238",
   "metadata": {},
   "outputs": [],
   "source": [
    "# integrifolia\n",
    "draw_beak(length=7, rotation=np.pi * 3.25, curve_x=0, curve_y=1, num_intervals=50, beak_radius_start=1.25)"
   ]
  },
  {
   "cell_type": "markdown",
   "id": "361be761-ab61-4bf4-a588-20e3867e9536",
   "metadata": {},
   "source": [
    "### Generate beaks"
   ]
  },
  {
   "cell_type": "code",
   "execution_count": 45,
   "id": "333d2757-adbc-4bef-87f0-acdea5b2f83c",
   "metadata": {},
   "outputs": [],
   "source": [
    "from loguru import logger"
   ]
  },
  {
   "cell_type": "code",
   "execution_count": 58,
   "id": "a6bfd869-912f-4104-b8fc-2337952b7057",
   "metadata": {},
   "outputs": [
    {
     "name": "stderr",
     "output_type": "stream",
     "text": [
      "🐞 logger_setup:set_log_level | \u001b[34m\u001b[1mphyloshape v.0.0.1 logging enabled\u001b[0m\n"
     ]
    }
   ],
   "source": [
    "import phyloshape\n",
    "phyloshape.set_log_level(\"DEBUG\")\n",
    "logger = logger.bind(name=\"phyloshape\")"
   ]
  },
  {
   "cell_type": "code",
   "execution_count": 59,
   "id": "fe8625ce-ab2e-4678-a2ba-97987a1e4475",
   "metadata": {},
   "outputs": [
    {
     "name": "stderr",
     "output_type": "stream",
     "text": [
      "ℹ️ 3646038683:<module>        | \u001b[1mDHI\u001b[0m\n"
     ]
    }
   ],
   "source": [
    "logger.info(\"DHI\")"
   ]
  },
  {
   "cell_type": "code",
   "execution_count": 60,
   "id": "749f2f69-b67e-4372-9fd0-59048855b206",
   "metadata": {},
   "outputs": [
    {
     "name": "stderr",
     "output_type": "stream",
     "text": [
      "🐞 1025496370:<module>        | \u001b[34m\u001b[1mHI\u001b[0m\n"
     ]
    }
   ],
   "source": [
    "logger.debug(\"HI\")"
   ]
  },
  {
   "cell_type": "code",
   "execution_count": null,
   "id": "33bf2754-ac65-4a11-82d3-578ffb74688a",
   "metadata": {},
   "outputs": [],
   "source": [
    "import pandas as pd\n",
    "import itertools\n",
    "data = list(itertools.product(\n",
    "    [1, 4, 6],             # length\n",
    "    [np.pi, 2 * np.pi, 0], # rotation\n",
    "    [-1, 0, 1],            # curve_x\n",
    "    [-1, 0, 1],            # curve_y\n",
    "    [2, 4],                # curve_radius_start\n",
    "    [1, 2],                # beak_radius_start\n",
    "))\n",
    "data = pd.DataFrame(data, columns=[\"length\", \"rotation\", \"curve_x\", \"curve_y\", \"curve_radius_start\", \"beak_radius_start\"])\n",
    "data.head(10)"
   ]
  },
  {
   "cell_type": "code",
   "execution_count": 34,
   "id": "974b5055-c5bb-4458-9366-650f559cad7d",
   "metadata": {},
   "outputs": [],
   "source": [
    "from pathlib import Path\n",
    "\n",
    "p = Path(\"~/bitmap.png\").expanduser().resolve()"
   ]
  },
  {
   "cell_type": "code",
   "execution_count": 44,
   "id": "d5152f71-d240-4db7-b52c-1fcb6b8972bd",
   "metadata": {},
   "outputs": [
    {
     "data": {
      "text/plain": [
       "PosixPath('/home/deren/bitmap.png/hi/bo')"
      ]
     },
     "execution_count": 44,
     "metadata": {},
     "output_type": "execute_result"
    }
   ],
   "source": [
    "2023-05-17 15:47:39.912 | INFO     | __main__:parse_runinfo:205 - F {'cluster': 'public', 'filename': 'mpg_L5733-1_BO15-052_ACTTGA_L005_R1_001.fastq.gz', 'size': '4609807739', 'date': '2020-03-05 16:24:05', 'md5': 'dc57c012a771195815c402fb6fe00702', 'version': '1', 'semantic_name': 'fastq', 'supertype': 'Original', 'sratoolkit': '0'}\n",
    "2023-05-17 15:47:39.913 | INFO     | __main__:parse_runinfo:205 - F {'cluster': 'public', 'filename': 'mpg_L5733-1_BO15-052_ACTTGA_L005_R2_001.fastq.gz', 'size': '4812098287', 'date': '2020-03-05 16:31:47', 'md5': '117386db08026f9e5012a8be2942763a', 'version': '1', 'semantic_name': 'fastq', 'supertype': 'Original', 'sratoolkit': '0'}\n",
    "2023-05-17 15:47:39.913 | INFO     | __main__:parse_runinfo:205 - F {'cluster': 'public', 'filename': 'SRR6670194', 'url': 'https://sra-pub-run-odp.s3.amazonaws.com/sra/SRR6670194/SRR6670194', 'size': '5352621398', 'date': '2018-02-05 06:56:20', 'md5': '0d5ae614990e692d040c2e18cf01a0e4', 'version': '1', 'semantic_name': 'SRA Normalized', 'supertype': 'Primary ETL', 'sratoolkit': '1'}\n",
    "2023-05-17 15:47:39.914 | INFO     | __main__:parse_runinfo:205 - F {'cluster': 'public', 'filename': 'SRR6670194.sralite', 'url': 'https://sra-downloadb.be-md.ncbi.nlm.nih.gov/sos5/sra-pub-zq-11/SRR006/670/SRR6670194/SRR6670194.sralite.1', 'size': '4112376558', 'date': '2020-06-23 21:46:06', 'md5': 'c181c72f9abedb7a37c5cddc59ecaadd', 'version': '1', 'semantic_name': 'SRA Lite', 'supertype': 'Primary ETL', 'sratoolkit': '1'}"
   ]
  },
  {
   "cell_type": "code",
   "execution_count": 20,
   "id": "9fa7144e-1df4-417d-8d7c-4df111b6642f",
   "metadata": {},
   "outputs": [
    {
     "data": {
      "text/plain": [
       "PosixPath('/tmp/davidii.html')"
      ]
     },
     "execution_count": 20,
     "metadata": {},
     "output_type": "execute_result"
    }
   ],
   "source": [
    "Path(\"/tmp/davidii.html\").expanduser().resolve()"
   ]
  },
  {
   "cell_type": "code",
   "execution_count": null,
   "id": "553292e6-36d0-40a0-b681-524c51c35f96",
   "metadata": {},
   "outputs": [],
   "source": [
    "# davidii\n",
    "draw_beak(length=5, rotation=-np.pi * 3/2, curve_radius_start=1.5, curve_radius_end=1, beak_radius_start=1.5, beak_radius_end=0.2, num_intervals=50)"
   ]
  },
  {
   "cell_type": "markdown",
   "id": "f7a40a27-4e92-4af7-9bd8-d226e3ef926c",
   "metadata": {},
   "source": [
    "### Multivariate simulation"
   ]
  },
  {
   "cell_type": "code",
   "execution_count": null,
   "id": "46fd01f2-bed3-4492-8e2c-43dd724b3852",
   "metadata": {},
   "outputs": [],
   "source": [
    "from scipy import stats"
   ]
  },
  {
   "cell_type": "code",
   "execution_count": null,
   "id": "9019d818-c4e5-4dfd-92b8-5d7fa0f705be",
   "metadata": {},
   "outputs": [],
   "source": [
    "data.columns"
   ]
  },
  {
   "cell_type": "code",
   "execution_count": null,
   "id": "e99114bd-475c-48c4-81e9-7fc1abe2a0c0",
   "metadata": {},
   "outputs": [],
   "source": [
    "corr = np.array([\n",
    "    [1.0,   0.7,  0.5,  0.5, -0.5, -0.5],\n",
    "    [0.7,   1.0,  0.5,  0.5,  0.0, -0.1],\n",
    "    [0.5,   0.5,  1.0,  0.2,  0.0, -0.2],\n",
    "    [0.5,   0.5,  0.2,  1.0,  0.0, -0.2],\n",
    "    [-0.5,  0.0,  0.0,  0.0,  1.0,  0.5],\n",
    "    [-0.5, -0.1, -0.2, -0.2,  0.5,  1.0],\n",
    "])"
   ]
  },
  {
   "cell_type": "code",
   "execution_count": null,
   "id": "a59f809e-7e43-4bbb-a0c6-7ebe3f7f4d52",
   "metadata": {},
   "outputs": [],
   "source": [
    "# convert corr matrix to cov matrix\n",
    "std_deviations = np.sqrt(np.diag(corr))\n",
    "std_matrix = np.diag(std_deviations)\n",
    "covariance_matrix = std_matrix @ corr @ std_matrix\n",
    "covariance_matrix"
   ]
  },
  {
   "cell_type": "code",
   "execution_count": null,
   "id": "06758c34-abbc-433a-b8c5-9aa8ce6c2167",
   "metadata": {},
   "outputs": [],
   "source": [
    "mean = np.array([5, 0, 0, 0, 2, 1.5])\n",
    "rvs = stats.multivariate_normal.rvs(mean, covariance_matrix)\n",
    "rvs"
   ]
  },
  {
   "cell_type": "code",
   "execution_count": null,
   "id": "a2773fa6-7830-4214-8ba6-d6da60fa4129",
   "metadata": {},
   "outputs": [],
   "source": [
    "# random\n",
    "rvs = stats.multivariate_normal.rvs(mean, covariance_matrix)\n",
    "kwargs = dict(zip([\"length\", \"rotation\", \"curve_x\", \"curve_y\", \"beak_radius_start\"], rvs))\n",
    "print(kwargs)\n",
    "draw_beak(num_intervals=50, **kwargs)"
   ]
  },
  {
   "cell_type": "code",
   "execution_count": null,
   "id": "01430a98-465b-4275-a3eb-840376e58981",
   "metadata": {},
   "outputs": [],
   "source": [
    "np.pi"
   ]
  },
  {
   "cell_type": "code",
   "execution_count": null,
   "id": "ccf1e382-d25b-4ec7-8722-eba5d9f12ac2",
   "metadata": {},
   "outputs": [],
   "source": []
  }
 ],
 "metadata": {
  "kernelspec": {
   "display_name": "Python 3 (ipykernel)",
   "language": "python",
   "name": "python3"
  },
  "language_info": {
   "codemirror_mode": {
    "name": "ipython",
    "version": 3
   },
   "file_extension": ".py",
   "mimetype": "text/x-python",
   "name": "python",
   "nbconvert_exporter": "python",
   "pygments_lexer": "ipython3",
   "version": "3.10.13"
  }
 },
 "nbformat": 4,
 "nbformat_minor": 5
}
