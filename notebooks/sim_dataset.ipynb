{
 "cells": [
  {
   "cell_type": "code",
   "execution_count": null,
   "id": "677e1f7c-dae2-46e4-9b00-aec84775b058",
   "metadata": {},
   "outputs": [],
   "source": []
  },
  {
   "cell_type": "code",
   "execution_count": 1,
   "id": "ce138bb5-64f0-4ab9-a445-0b99844b7e99",
   "metadata": {},
   "outputs": [],
   "source": [
    "import phyloshape"
   ]
  },
  {
   "cell_type": "code",
   "execution_count": null,
   "id": "a908f60b-c864-4c1d-961e-2a6c0894d40e",
   "metadata": {},
   "outputs": [],
   "source": []
  },
  {
   "cell_type": "code",
   "execution_count": null,
   "id": "72551075-ee1f-4789-bc1d-e05d043392db",
   "metadata": {},
   "outputs": [],
   "source": []
  },
  {
   "cell_type": "code",
   "execution_count": null,
   "id": "ca0f9046-8a6b-4615-8d3b-59a01bb546ca",
   "metadata": {},
   "outputs": [],
   "source": []
  }
 ],
 "metadata": {
  "kernelspec": {
   "display_name": "Python 3 (ipykernel)",
   "language": "python",
   "name": "python3"
  },
  "language_info": {
   "codemirror_mode": {
    "name": "ipython",
    "version": 3
   },
   "file_extension": ".py",
   "mimetype": "text/x-python",
   "name": "python",
   "nbconvert_exporter": "python",
   "pygments_lexer": "ipython3",
   "version": "3.10.13"
  }
 },
 "nbformat": 4,
 "nbformat_minor": 5
}
