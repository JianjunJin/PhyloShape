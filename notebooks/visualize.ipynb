{
 "cells": [
  {
   "cell_type": "markdown",
   "id": "43a5ec9c-fc2d-4006-aabf-dcfcdb76b682",
   "metadata": {},
   "source": [
    "## Phyloshape test"
   ]
  },
  {
   "cell_type": "code",
   "execution_count": 1,
   "id": "0c0dc5e7",
   "metadata": {
    "tags": []
   },
   "outputs": [],
   "source": [
    "import phyloshape\n",
    "import numpy as np\n",
    "import toytree\n",
    "from pathlib import Path\n",
    "import k3d"
   ]
  },
  {
   "cell_type": "markdown",
   "id": "3c955999-817d-456f-a5f9-5e533dd00aa5",
   "metadata": {},
   "source": [
    "### Phylogeny of subset of Gesneriaceae samples"
   ]
  },
  {
   "cell_type": "code",
   "execution_count": 2,
   "id": "7ee958dd-1e8f-4ab1-8eeb-fb4ed9e2bb99",
   "metadata": {
    "tags": []
   },
   "outputs": [],
   "source": [
    "NEWICK = \"((((19_K039112_05:0.001,19_K039112_05:0.001):0.013,63_K039178_01:0.018):0.002,58_HC5803-7_09:0.025):0.003,22_K039118_03:0.012);\""
   ]
  },
  {
   "cell_type": "code",
   "execution_count": 3,
   "id": "6d21a8b0-2fe8-4882-a5e9-097e58785906",
   "metadata": {
    "tags": []
   },
   "outputs": [
    {
     "data": {
      "text/html": [
       "<div class=\"toyplot\" id=\"t45b4a080752646de80745857597831a7\" style=\"text-align:center\"><svg class=\"toyplot-canvas-Canvas\" xmlns:toyplot=\"http://www.sandia.gov/toyplot\" xmlns:xlink=\"http://www.w3.org/1999/xlink\" xmlns=\"http://www.w3.org/2000/svg\" width=\"353.432px\" height=\"275.0px\" viewBox=\"0 0 353.432 275.0\" preserveAspectRatio=\"xMidYMid meet\" style=\"background-color:transparent;border-color:#292724;border-style:none;border-width:1.0;fill:rgb(16.1%,15.3%,14.1%);fill-opacity:1.0;font-family:Helvetica;font-size:12px;opacity:1.0;stroke:rgb(16.1%,15.3%,14.1%);stroke-opacity:1.0;stroke-width:1.0\" id=\"t5b053d8fa49b44da9c5a7721d01b3b28\"><g class=\"toyplot-coordinates-Cartesian\" id=\"t7e9f8cf341b24b699e3a080f91f3284f\"><clipPath id=\"tc90ca15fdfca43e3a07204a088fa2832\"><rect x=\"35.0\" y=\"35.0\" width=\"283.432\" height=\"205.0\"></rect></clipPath><g clip-path=\"url(#tc90ca15fdfca43e3a07204a088fa2832)\"><g class=\"toytree-mark-Toytree\" id=\"t42388c56c9dd40c3873a80932216fb9d\"><g class=\"toytree-Edges\" style=\"stroke:rgb(14.5%,14.5%,14.5%);stroke-opacity:1.0;stroke-linecap:round;stroke-width:2.0;fill:none\"><path d=\"M 140.4 197.0 L 140.4 216.8 L 145.2 216.8\" id=\"5,0\" style=\"\"></path><path d=\"M 140.4 197.0 L 140.4 177.2 L 145.2 177.2\" id=\"5,1\" style=\"\"></path><path d=\"M 78.5 167.3 L 78.5 137.5 L 164.2 137.5\" id=\"6,2\" style=\"\"></path><path d=\"M 69.0 132.5 L 69.0 97.8 L 188.0 97.8\" id=\"7,3\" style=\"\"></path><path d=\"M 54.7 95.4 L 54.7 58.2 L 111.9 58.2\" id=\"8,4\" style=\"\"></path><path d=\"M 78.5 167.3 L 78.5 197.0 L 140.4 197.0\" id=\"6,5\" style=\"\"></path><path d=\"M 69.0 132.5 L 69.0 167.3 L 78.5 167.3\" id=\"7,6\" style=\"\"></path><path d=\"M 54.7 95.4 L 54.7 132.5 L 69.0 132.5\" id=\"8,7\" style=\"\"></path></g><g class=\"toytree-Nodes\" style=\"fill:rgb(40.0%,76.1%,64.7%);fill-opacity:1.0;stroke:rgb(14.9%,14.9%,14.9%);stroke-opacity:1.0;stroke-width:1.5\"><g id=\"Node-5\" transform=\"translate(140.42,197.005)\"><circle r=\"7.5\"></circle></g><g id=\"Node-6\" transform=\"translate(78.5353,167.252)\"><circle r=\"7.5\"></circle></g><g id=\"Node-7\" transform=\"translate(69.0146,132.541)\"><circle r=\"7.5\"></circle></g><g id=\"Node-8\" transform=\"translate(54.7335,95.351)\"><circle r=\"7.5\"></circle></g></g><g class=\"toytree-NodeLabels\" style=\"font-family:Helvetica;font-size:9px;font-weight:300;vertical-align:baseline;white-space:pre;stroke:none\"><g class=\"toytree-NodeLabel\" transform=\"translate(140.42,197.005)\"><text x=\"-2.5020000000000002\" y=\"2.2995\" style=\"fill:rgb(14.5%,14.5%,14.5%);fill-opacity:1.0\">5</text></g><g class=\"toytree-NodeLabel\" transform=\"translate(78.5353,167.252)\"><text x=\"-2.5020000000000002\" y=\"2.2995\" style=\"fill:rgb(14.5%,14.5%,14.5%);fill-opacity:1.0\">6</text></g><g class=\"toytree-NodeLabel\" transform=\"translate(69.0146,132.541)\"><text x=\"-2.5020000000000002\" y=\"2.2995\" style=\"fill:rgb(14.5%,14.5%,14.5%);fill-opacity:1.0\">7</text></g><g class=\"toytree-NodeLabel\" transform=\"translate(54.7335,95.351)\"><text x=\"-2.5020000000000002\" y=\"2.2995\" style=\"fill:rgb(14.5%,14.5%,14.5%);fill-opacity:1.0\">8</text></g></g><g class=\"toytree-TipLabels\" style=\"fill:rgb(14.5%,14.5%,14.5%);fill-opacity:1.0;font-family:Helvetica;font-size:12px;font-weight:300;vertical-align:baseline;white-space:pre;stroke:none\"><g class=\"toytree-TipLabel\" transform=\"translate(145.18,216.839)\"><text x=\"15.0\" y=\"3.066\" style=\"fill:rgb(14.5%,14.5%,14.5%);fill-opacity:1.0\">19_K039112_05</text></g><g class=\"toytree-TipLabel\" transform=\"translate(145.18,177.17)\"><text x=\"15.0\" y=\"3.066\" style=\"fill:rgb(14.5%,14.5%,14.5%);fill-opacity:1.0\">19_K039112_05</text></g><g class=\"toytree-TipLabel\" transform=\"translate(164.222,137.5)\"><text x=\"15.0\" y=\"3.066\" style=\"fill:rgb(14.5%,14.5%,14.5%);fill-opacity:1.0\">63_K039178_01</text></g><g class=\"toytree-TipLabel\" transform=\"translate(188.024,97.8303)\"><text x=\"15.0\" y=\"3.066\" style=\"fill:rgb(14.5%,14.5%,14.5%);fill-opacity:1.0\">58_HC5803-7_09</text></g><g class=\"toytree-TipLabel\" transform=\"translate(111.858,58.1606)\"><text x=\"15.0\" y=\"3.066\" style=\"fill:rgb(14.5%,14.5%,14.5%);fill-opacity:1.0\">22_K039118_03</text></g></g></g></g></g></svg><div class=\"toyplot-behavior\"><script>(function()\n",
       "{\n",
       "var modules={};\n",
       "})();</script></div></div>"
      ]
     },
     "metadata": {},
     "output_type": "display_data"
    }
   ],
   "source": [
    "tree = toytree.io.src.newick.parse_newick_string(NEWICK)\n",
    "tree.draw(node_sizes=15, node_labels=\"idx\");"
   ]
  },
  {
   "cell_type": "markdown",
   "id": "1ee55fc0-5adc-49cc-a3a6-fab7dfe05af2",
   "metadata": {
    "tags": []
   },
   "source": [
    "### Parse landmarks from Gigascience data"
   ]
  },
  {
   "cell_type": "code",
   "execution_count": 4,
   "id": "64c338cd-8dba-40cb-ad33-88c3129fd020",
   "metadata": {
    "tags": []
   },
   "outputs": [],
   "source": [
    "# path to directory with landmark CSVs\n",
    "GIGA_DIR = Path(\"../../PhyloShapeTest/data/Gesneriaceae.Gigascience.2020/\")\n",
    "\n",
    "# get CSV data files excluding 'Landmark.csv' legend file.\n",
    "CSVS = list(GIGA_DIR.glob(\"[0-9]*.csv\"))"
   ]
  },
  {
   "cell_type": "code",
   "execution_count": 5,
   "id": "95a7e2d3-1d6e-4376-a63a-aa87d19d6458",
   "metadata": {
    "tags": []
   },
   "outputs": [],
   "source": [
    "# get number of landmarks\n",
    "with open(CSVS[0], 'r') as indat:\n",
    "    nmarks = int(len(indat.readline().split(\",\")) / 3)\n",
    "\n",
    "# load all models and reshape landmarks to (x, y, z)\n",
    "models = {}\n",
    "for csv in CSVS:\n",
    "    sample = csv.name.rsplit(\".\", 1)[0]\n",
    "    with open(csv, 'r') as indata:\n",
    "        data = indata.readline()\n",
    "        try:\n",
    "            arr = np.array(data.split(\",\")).reshape((nmarks, 3), order=\"F\").astype(float)\n",
    "        except ValueError:\n",
    "            arr = np.array(data.split()).reshape((nmarks, 3), order=\"F\").astype(float)\n",
    "        \n",
    "        # store as a Shape object\n",
    "        model = phyloshape.io.load_model_from_coordinates(arr - 1)\n",
    "        models[sample] = model"
   ]
  },
  {
   "cell_type": "code",
   "execution_count": 6,
   "id": "3b0dc44f-4ddb-493e-a672-a9d56a63a1fe",
   "metadata": {
    "tags": []
   },
   "outputs": [],
   "source": [
    "samples = list(models.keys())[:5]\n",
    "models = {i: models[i] for i in samples}\n",
    "verts = np.zeros((5, len(model.vertices), 3))\n",
    "for m, model in enumerate(models.values()):\n",
    "    for v, vertex in enumerate(model.vertices):\n",
    "        verts[m, v, :] = vertex.coords"
   ]
  },
  {
   "cell_type": "code",
   "execution_count": 7,
   "id": "7a31ef03-90c1-4c2d-bb1f-efd5d0a1166b",
   "metadata": {
    "tags": []
   },
   "outputs": [],
   "source": [
    "# kdtree = KDTree(verts[0])\n",
    "# dists, vidxs = kdtree.query(verts[0][32], k=10)\n",
    "# dists"
   ]
  },
  {
   "cell_type": "code",
   "execution_count": 9,
   "id": "ce3149ec-560a-4076-82b0-a1f8acf74b0d",
   "metadata": {
    "tags": []
   },
   "outputs": [],
   "source": [
    "#model._build_graph_from_faces()"
   ]
  },
  {
   "cell_type": "code",
   "execution_count": 29,
   "id": "3e099c5a-a293-4abe-840f-bdd3d430474d",
   "metadata": {
    "tags": []
   },
   "outputs": [],
   "source": [
    "#model._graph"
   ]
  },
  {
   "cell_type": "code",
   "execution_count": 30,
   "id": "59d458f4-e606-4a2d-8e2b-a5bff0c87464",
   "metadata": {
    "tags": []
   },
   "outputs": [
    {
     "data": {
      "text/plain": [
       "{}"
      ]
     },
     "execution_count": 30,
     "metadata": {},
     "output_type": "execute_result"
    }
   ],
   "source": [
    "model._vectors"
   ]
  },
  {
   "cell_type": "markdown",
   "id": "3c021510-e464-4b5a-8e77-07b08c630449",
   "metadata": {
    "tags": []
   },
   "source": [
    "### Draw 3D scatterplot of landmarks"
   ]
  },
  {
   "cell_type": "code",
   "execution_count": 67,
   "id": "a27089f6-f733-4f40-b674-e16b3a653929",
   "metadata": {
    "tags": []
   },
   "outputs": [
    {
     "ename": "MemoryError",
     "evalue": "Unable to allocate 74.5 GiB for an array with shape (100, 10000, 10000) and data type float64",
     "output_type": "error",
     "traceback": [
      "\u001b[0;31m---------------------------------------------------------------------------\u001b[0m",
      "\u001b[0;31mMemoryError\u001b[0m                               Traceback (most recent call last)",
      "Cell \u001b[0;32mIn[67], line 1\u001b[0m\n\u001b[0;32m----> 1\u001b[0m \u001b[43mnp\u001b[49m\u001b[38;5;241;43m.\u001b[39;49m\u001b[43mzeros\u001b[49m\u001b[43m(\u001b[49m\u001b[43m(\u001b[49m\u001b[38;5;241;43m100\u001b[39;49m\u001b[43m,\u001b[49m\u001b[43m \u001b[49m\u001b[38;5;241;43m10000\u001b[39;49m\u001b[43m,\u001b[49m\u001b[43m \u001b[49m\u001b[38;5;241;43m10000\u001b[39;49m\u001b[43m)\u001b[49m\u001b[43m,\u001b[49m\u001b[43m \u001b[49m\u001b[43mdtype\u001b[49m\u001b[38;5;241;43m=\u001b[39;49m\u001b[43mnp\u001b[49m\u001b[38;5;241;43m.\u001b[39;49m\u001b[43mfloat64\u001b[49m\u001b[43m)\u001b[49m\u001b[38;5;241m.\u001b[39mnbytes \u001b[38;5;241m/\u001b[39m \u001b[38;5;241m1e9\u001b[39m\n",
      "\u001b[0;31mMemoryError\u001b[0m: Unable to allocate 74.5 GiB for an array with shape (100, 10000, 10000) and data type float64"
     ]
    }
   ],
   "source": [
    "np.zeros((100, 10000, 10000), dtype=np.float64).nbytes / 1e9"
   ]
  },
  {
   "cell_type": "code",
   "execution_count": 51,
   "id": "719bb82b-2b79-4956-b9be-49036ffee6a5",
   "metadata": {
    "tags": []
   },
   "outputs": [
    {
     "data": {
      "application/vnd.jupyter.widget-view+json": {
       "model_id": "83683fbd10f3427aa9a84259c22db240",
       "version_major": 2,
       "version_minor": 0
      },
      "text/plain": [
       "Plot(antialias=3, axes=['x', 'y', 'z'], axes_helper=1.0, axes_helper_colors=[16711680, 65280, 255], background…"
      ]
     },
     "execution_count": 51,
     "metadata": {},
     "output_type": "execute_result"
    }
   ],
   "source": [
    "m = models[\"34_HC3403-3_17\"]\n",
    "m.faces = None\n",
    "p = m.draw(point_size=15)\n",
    "\n",
    "for i in [411]:\n",
    "    p += k3d.label(\n",
    "        str(i),\n",
    "        position=tuple(m.vertices[i].coords),\n",
    "        mode='side',\n",
    "        label_box=False,\n",
    "        color=0x000000,\n",
    "        group='0',\n",
    "    )\n",
    "p"
   ]
  },
  {
   "cell_type": "code",
   "execution_count": 50,
   "id": "a4d8c620-ee11-442d-aa95-289069861227",
   "metadata": {
    "tags": []
   },
   "outputs": [
    {
     "ename": "KeyError",
     "evalue": "'07_K039091_07'",
     "output_type": "error",
     "traceback": [
      "\u001b[0;31m---------------------------------------------------------------------------\u001b[0m",
      "\u001b[0;31mKeyError\u001b[0m                                  Traceback (most recent call last)",
      "Cell \u001b[0;32mIn[50], line 2\u001b[0m\n\u001b[1;32m      1\u001b[0m plot \u001b[38;5;241m=\u001b[39m k3d\u001b[38;5;241m.\u001b[39mPlot()\n\u001b[0;32m----> 2\u001b[0m \u001b[43mmodels\u001b[49m\u001b[43m[\u001b[49m\u001b[38;5;124;43m\"\u001b[39;49m\u001b[38;5;124;43m07_K039091_07\u001b[39;49m\u001b[38;5;124;43m\"\u001b[39;49m\u001b[43m]\u001b[49m\u001b[38;5;241m.\u001b[39mdraw(plot)\n\u001b[1;32m      3\u001b[0m models[\u001b[38;5;124m\"\u001b[39m\u001b[38;5;124m07_K039091_08\u001b[39m\u001b[38;5;124m\"\u001b[39m]\u001b[38;5;241m.\u001b[39mdraw(plot, xbaseline\u001b[38;5;241m=\u001b[39m\u001b[38;5;241m500\u001b[39m)\n\u001b[1;32m      4\u001b[0m models[\u001b[38;5;124m\"\u001b[39m\u001b[38;5;124m07_K039091_09\u001b[39m\u001b[38;5;124m\"\u001b[39m]\u001b[38;5;241m.\u001b[39mdraw(plot, xbaseline\u001b[38;5;241m=\u001b[39m\u001b[38;5;241m1000\u001b[39m)\n",
      "\u001b[0;31mKeyError\u001b[0m: '07_K039091_07'"
     ]
    }
   ],
   "source": [
    "plot = k3d.Plot()\n",
    "models[\"07_K039091_07\"].draw(plot)\n",
    "models[\"07_K039091_08\"].draw(plot, xbaseline=500)\n",
    "models[\"07_K039091_09\"].draw(plot, xbaseline=1000)\n",
    "plot"
   ]
  },
  {
   "cell_type": "markdown",
   "id": "575cde45-d34c-47ef-85d6-4f4f97e2f3c4",
   "metadata": {},
   "source": [
    "### ShapeAlignment"
   ]
  },
  {
   "cell_type": "code",
   "execution_count": 26,
   "id": "469cb207-53ae-4d00-80f3-201f2f1223b8",
   "metadata": {
    "tags": []
   },
   "outputs": [],
   "source": [
    "from phyloshape.shape.src.shape_alignment import ShapeAlign"
   ]
  },
  {
   "cell_type": "code",
   "execution_count": 28,
   "id": "8199a1db-1e44-47a3-bab2-ccb6f173df97",
   "metadata": {
    "tags": []
   },
   "outputs": [],
   "source": [
    "alignment = ShapeAlign(*models.values(), labels=list(models.keys()))"
   ]
  },
  {
   "cell_type": "code",
   "execution_count": 30,
   "id": "d046661e-aa7e-4dde-91ad-45aa8c8bbee8",
   "metadata": {
    "tags": []
   },
   "outputs": [
    {
     "data": {
      "text/plain": [
       "(152, 420, 3)"
      ]
     },
     "execution_count": 30,
     "metadata": {},
     "output_type": "execute_result"
    }
   ],
   "source": [
    "alignment.vertices.shape"
   ]
  },
  {
   "cell_type": "markdown",
   "id": "c238d10f-7d72-4614-bd9b-dd687b236a3e",
   "metadata": {},
   "source": [
    "### VertexVectorMapper"
   ]
  },
  {
   "cell_type": "code",
   "execution_count": 17,
   "id": "82c2ec9f",
   "metadata": {
    "tags": []
   },
   "outputs": [
    {
     "ename": "NameError",
     "evalue": "name 'VertexVectorMapper' is not defined",
     "output_type": "error",
     "traceback": [
      "\u001b[0;31m---------------------------------------------------------------------------\u001b[0m",
      "\u001b[0;31mNameError\u001b[0m                                 Traceback (most recent call last)",
      "Cell \u001b[0;32mIn[17], line 1\u001b[0m\n\u001b[0;32m----> 1\u001b[0m translator \u001b[38;5;241m=\u001b[39m \u001b[43mVertexVectorMapper\u001b[49m(shape, random_seed\u001b[38;5;241m=\u001b[39m\u001b[38;5;241m0\u001b[39m)\n",
      "\u001b[0;31mNameError\u001b[0m: name 'VertexVectorMapper' is not defined"
     ]
    }
   ],
   "source": [
    "translator = VertexVectorMapper(shape, random_seed=0)"
   ]
  }
 ],
 "metadata": {
  "kernelspec": {
   "display_name": "Python 3 (ipykernel)",
   "language": "python",
   "name": "python3"
  },
  "language_info": {
   "codemirror_mode": {
    "name": "ipython",
    "version": 3
   },
   "file_extension": ".py",
   "mimetype": "text/x-python",
   "name": "python",
   "nbconvert_exporter": "python",
   "pygments_lexer": "ipython3",
   "version": "3.10.12"
  }
 },
 "nbformat": 4,
 "nbformat_minor": 5
}
